{
 "cells": [
  {
   "cell_type": "markdown",
   "metadata": {},
   "source": [
    "### Plotting of Step Intensities\n",
    "\n",
    "Simple plotting of step intensities after extracting relevant information from a text file. Experimental data from Dipanjana Saha."
   ]
  },
  {
   "cell_type": "code",
   "execution_count": 1,
   "metadata": {},
   "outputs": [],
   "source": [
    "import pandas as pd\n",
    "import numpy as np\n",
    "import codecs\n",
    "import matplotlib.pyplot as plt\n",
    "\n",
    "%matplotlib inline"
   ]
  },
  {
   "cell_type": "code",
   "execution_count": 2,
   "metadata": {},
   "outputs": [],
   "source": [
    "file_name = 'step0.txt'\n",
    "file_path = '/Users/sharbatc/Downloads/'+file_name #replace with own filepath\n",
    "\n",
    "with codecs.open(file_path,'r', encoding='utf-8',errors='ignore') as f: #ignore errors of encoding utf-8\n",
    "    lines = f.readlines() #check file encoding errors"
   ]
  },
  {
   "cell_type": "code",
   "execution_count": 3,
   "metadata": {},
   "outputs": [
    {
     "name": "stdout",
     "output_type": "stream",
     "text": [
      "['Position X ROI#1, Intensity X ROI#1,Position Y ROI#1, Intensity Y ROI#1\\r\\n']\n"
     ]
    }
   ],
   "source": [
    "beginning_value = [i for i in lines if i.startswith('Position X ROI#1')]\n",
    "print(beginning_value)"
   ]
  },
  {
   "cell_type": "code",
   "execution_count": 4,
   "metadata": {},
   "outputs": [],
   "source": [
    "list_start = [i for i, j in enumerate(lines) if j == beginning_value[0]] #array index having the value beginning_value (Position ...)\n",
    "csv_list = lines[list_start[0]:]\n",
    "csv_string = ''.join(csv_list)"
   ]
  },
  {
   "cell_type": "code",
   "execution_count": 5,
   "metadata": {},
   "outputs": [],
   "source": [
    "# show what the string looks like\n",
    "# csv_string"
   ]
  },
  {
   "cell_type": "code",
   "execution_count": 6,
   "metadata": {},
   "outputs": [],
   "source": [
    "# make a list of lists, each list being at \\r\\n and within one list, values being separated by ,\n",
    "data = list(map(lambda x: x.split(','),csv_string.split(\"\\r\\n\")))"
   ]
  },
  {
   "cell_type": "code",
   "execution_count": 7,
   "metadata": {},
   "outputs": [
    {
     "data": {
      "text/plain": [
       "[['Position X ROI#1',\n",
       "  ' Intensity X ROI#1',\n",
       "  'Position Y ROI#1',\n",
       "  ' Intensity Y ROI#1'],\n",
       " ['4630.67383', '1762.438', '4368.92480', '2526.076', ''],\n",
       " ['4630.76514', '1762.438', '4369.01611', '2529.076', ''],\n",
       " ['4630.85693', '1763.438', '4369.10742', '2532.076', ''],\n",
       " ['4630.94824', '1763.438', '4369.19922', '2535.076', '']]"
      ]
     },
     "execution_count": 7,
     "metadata": {},
     "output_type": "execute_result"
    }
   ],
   "source": [
    "data[:5]"
   ]
  },
  {
   "cell_type": "code",
   "execution_count": 8,
   "metadata": {},
   "outputs": [],
   "source": [
    "# remove the extra '' character at end of list by popping it away\n",
    "for item in data[1:]:\n",
    "    item.pop()"
   ]
  },
  {
   "cell_type": "code",
   "execution_count": 9,
   "metadata": {},
   "outputs": [
    {
     "data": {
      "text/plain": [
       "[['Position X ROI#1',\n",
       "  ' Intensity X ROI#1',\n",
       "  'Position Y ROI#1',\n",
       "  ' Intensity Y ROI#1'],\n",
       " ['4630.67383', '1762.438', '4368.92480', '2526.076'],\n",
       " ['4630.76514', '1762.438', '4369.01611', '2529.076'],\n",
       " ['4630.85693', '1763.438', '4369.10742', '2532.076'],\n",
       " ['4630.94824', '1763.438', '4369.19922', '2535.076']]"
      ]
     },
     "execution_count": 9,
     "metadata": {},
     "output_type": "execute_result"
    }
   ],
   "source": [
    "# show what the final list looks like\n",
    "data[:5]"
   ]
  },
  {
   "cell_type": "code",
   "execution_count": 10,
   "metadata": {},
   "outputs": [
    {
     "data": {
      "text/html": [
       "<div>\n",
       "<style scoped>\n",
       "    .dataframe tbody tr th:only-of-type {\n",
       "        vertical-align: middle;\n",
       "    }\n",
       "\n",
       "    .dataframe tbody tr th {\n",
       "        vertical-align: top;\n",
       "    }\n",
       "\n",
       "    .dataframe thead th {\n",
       "        text-align: right;\n",
       "    }\n",
       "</style>\n",
       "<table border=\"1\" class=\"dataframe\">\n",
       "  <thead>\n",
       "    <tr style=\"text-align: right;\">\n",
       "      <th></th>\n",
       "      <th>Position X ROI#1</th>\n",
       "      <th>Intensity X ROI#1</th>\n",
       "      <th>Position Y ROI#1</th>\n",
       "      <th>Intensity Y ROI#1</th>\n",
       "    </tr>\n",
       "  </thead>\n",
       "  <tbody>\n",
       "    <tr>\n",
       "      <th>0</th>\n",
       "      <td>4630.67383</td>\n",
       "      <td>1762.438</td>\n",
       "      <td>4368.92480</td>\n",
       "      <td>2526.076</td>\n",
       "    </tr>\n",
       "    <tr>\n",
       "      <th>1</th>\n",
       "      <td>4630.76514</td>\n",
       "      <td>1762.438</td>\n",
       "      <td>4369.01611</td>\n",
       "      <td>2529.076</td>\n",
       "    </tr>\n",
       "    <tr>\n",
       "      <th>2</th>\n",
       "      <td>4630.85693</td>\n",
       "      <td>1763.438</td>\n",
       "      <td>4369.10742</td>\n",
       "      <td>2532.076</td>\n",
       "    </tr>\n",
       "    <tr>\n",
       "      <th>3</th>\n",
       "      <td>4630.94824</td>\n",
       "      <td>1763.438</td>\n",
       "      <td>4369.19922</td>\n",
       "      <td>2535.076</td>\n",
       "    </tr>\n",
       "    <tr>\n",
       "      <th>4</th>\n",
       "      <td>4631.04004</td>\n",
       "      <td>1763.438</td>\n",
       "      <td>4369.29053</td>\n",
       "      <td>2538.076</td>\n",
       "    </tr>\n",
       "  </tbody>\n",
       "</table>\n",
       "</div>"
      ],
      "text/plain": [
       "  Position X ROI#1  Intensity X ROI#1 Position Y ROI#1  Intensity Y ROI#1\n",
       "0       4630.67383           1762.438       4368.92480           2526.076\n",
       "1       4630.76514           1762.438       4369.01611           2529.076\n",
       "2       4630.85693           1763.438       4369.10742           2532.076\n",
       "3       4630.94824           1763.438       4369.19922           2535.076\n",
       "4       4631.04004           1763.438       4369.29053           2538.076"
      ]
     },
     "execution_count": 10,
     "metadata": {},
     "output_type": "execute_result"
    }
   ],
   "source": [
    "df = pd.DataFrame(data[1:], columns=data[0])\n",
    "df.head()"
   ]
  },
  {
   "cell_type": "code",
   "execution_count": 11,
   "metadata": {},
   "outputs": [],
   "source": [
    "# convert all strings to numerics (float)\n",
    "df = df.apply(pd.to_numeric)"
   ]
  },
  {
   "cell_type": "code",
   "execution_count": 12,
   "metadata": {},
   "outputs": [
    {
     "data": {
      "text/html": [
       "<div>\n",
       "<style scoped>\n",
       "    .dataframe tbody tr th:only-of-type {\n",
       "        vertical-align: middle;\n",
       "    }\n",
       "\n",
       "    .dataframe tbody tr th {\n",
       "        vertical-align: top;\n",
       "    }\n",
       "\n",
       "    .dataframe thead th {\n",
       "        text-align: right;\n",
       "    }\n",
       "</style>\n",
       "<table border=\"1\" class=\"dataframe\">\n",
       "  <thead>\n",
       "    <tr style=\"text-align: right;\">\n",
       "      <th></th>\n",
       "      <th>Position X ROI#1</th>\n",
       "      <th>Intensity X ROI#1</th>\n",
       "      <th>Position Y ROI#1</th>\n",
       "      <th>Intensity Y ROI#1</th>\n",
       "    </tr>\n",
       "  </thead>\n",
       "  <tbody>\n",
       "    <tr>\n",
       "      <th>count</th>\n",
       "      <td>3162.000000</td>\n",
       "      <td>3162.000000</td>\n",
       "      <td>2894.000000</td>\n",
       "      <td>2894.000000</td>\n",
       "    </tr>\n",
       "    <tr>\n",
       "      <th>mean</th>\n",
       "      <td>4775.322328</td>\n",
       "      <td>9761.830789</td>\n",
       "      <td>4501.309294</td>\n",
       "      <td>11407.096041</td>\n",
       "    </tr>\n",
       "    <tr>\n",
       "      <th>std</th>\n",
       "      <td>83.552477</td>\n",
       "      <td>9841.680467</td>\n",
       "      <td>76.471982</td>\n",
       "      <td>11356.440777</td>\n",
       "    </tr>\n",
       "    <tr>\n",
       "      <th>min</th>\n",
       "      <td>4630.673830</td>\n",
       "      <td>1762.438000</td>\n",
       "      <td>4368.924800</td>\n",
       "      <td>2526.076000</td>\n",
       "    </tr>\n",
       "    <tr>\n",
       "      <th>25%</th>\n",
       "      <td>4702.998047</td>\n",
       "      <td>2902.188000</td>\n",
       "      <td>4435.117067</td>\n",
       "      <td>3430.826000</td>\n",
       "    </tr>\n",
       "    <tr>\n",
       "      <th>50%</th>\n",
       "      <td>4775.322265</td>\n",
       "      <td>5546.438000</td>\n",
       "      <td>4501.309325</td>\n",
       "      <td>5831.076000</td>\n",
       "    </tr>\n",
       "    <tr>\n",
       "      <th>75%</th>\n",
       "      <td>4847.646605</td>\n",
       "      <td>12973.188000</td>\n",
       "      <td>4567.501585</td>\n",
       "      <td>14761.326000</td>\n",
       "    </tr>\n",
       "    <tr>\n",
       "      <th>max</th>\n",
       "      <td>4919.970700</td>\n",
       "      <td>41112.438000</td>\n",
       "      <td>4633.693850</td>\n",
       "      <td>43241.076000</td>\n",
       "    </tr>\n",
       "  </tbody>\n",
       "</table>\n",
       "</div>"
      ],
      "text/plain": [
       "       Position X ROI#1   Intensity X ROI#1  Position Y ROI#1  \\\n",
       "count       3162.000000         3162.000000       2894.000000   \n",
       "mean        4775.322328         9761.830789       4501.309294   \n",
       "std           83.552477         9841.680467         76.471982   \n",
       "min         4630.673830         1762.438000       4368.924800   \n",
       "25%         4702.998047         2902.188000       4435.117067   \n",
       "50%         4775.322265         5546.438000       4501.309325   \n",
       "75%         4847.646605        12973.188000       4567.501585   \n",
       "max         4919.970700        41112.438000       4633.693850   \n",
       "\n",
       "        Intensity Y ROI#1  \n",
       "count         2894.000000  \n",
       "mean         11407.096041  \n",
       "std          11356.440777  \n",
       "min           2526.076000  \n",
       "25%           3430.826000  \n",
       "50%           5831.076000  \n",
       "75%          14761.326000  \n",
       "max          43241.076000  "
      ]
     },
     "execution_count": 12,
     "metadata": {},
     "output_type": "execute_result"
    }
   ],
   "source": [
    "# preliminary statistics of the data\n",
    "df.describe()"
   ]
  },
  {
   "cell_type": "code",
   "execution_count": 18,
   "metadata": {},
   "outputs": [
    {
     "data": {
      "image/png": "[encoded data removed]",
      "text/plain": [
       "<Figure size 432x288 with 1 Axes>"
      ]
     },
     "metadata": {
      "needs_background": "light"
     },
     "output_type": "display_data"
    }
   ],
   "source": [
    "intensity_x = df[' Intensity X ROI#1'].dropna()\n",
    "intensity_y = df[' Intensity Y ROI#1'].dropna()\n",
    "\n",
    "fig = plt.subplots()\n",
    "\n",
    "plt.title(file_name)\n",
    "plt.plot(intensity_x, label = 'Intensity X')\n",
    "plt.plot(intensity_y, label = 'Intensity Y')\n",
    "plt.xticks(np.arange(0, len(intensity_y), 250))\n",
    "plt.yticks(np.arange(0, max(intensity_y), 2500))\n",
    "plt.xlabel('Count')\n",
    "plt.xticks(rotation=45)\n",
    "plt.ylabel('Intensities')\n",
    "plt.legend()\n",
    "# plt.savefig('intensities_plot.jpeg')\n",
    "\n",
    "plt.show()"
   ]
  },
  {
   "cell_type": "code",
   "execution_count": null,
   "metadata": {},
   "outputs": [],
   "source": []
  }
 ],
 "metadata": {
  "kernelspec": {
   "display_name": "Python 2",
   "language": "python",
   "name": "python2"
  },
  "language_info": {
   "codemirror_mode": {
    "name": "ipython",
    "version": 3
   },
   "file_extension": ".py",
   "mimetype": "text/x-python",
   "name": "python",
   "nbconvert_exporter": "python",
   "pygments_lexer": "ipython3",
   "version": "3.7.7"
  }
 },
 "nbformat": 4,
 "nbformat_minor": 2
}
